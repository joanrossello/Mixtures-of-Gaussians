{
 "cells": [
  {
   "cell_type": "markdown",
   "metadata": {},
   "source": [
    "# practicalMixGaussB\n",
    "\n",
    "The goal of this part of the lab is to fit a mixture of gaussians model to some one-dimensional data. To do this, we will first generate some data from a known mixture of gaussians model and fit our own mixture of gaussians model to the generated data. The parameters from our estimated mixture of gaussians model should roughly match those of the original known model. \n",
    "\n",
    "You should use this template for your code and fill in the missing \n",
    "sections marked \"TO DO.\"\n",
    "\n",
    "PLEASE NOTE (again): You should NOT be using functions like multivariate_normal.pdf and normfit or any other numpy functions for fitting your distributions in this or further parts of this practical. Optionally, you can try comparing your results to those produced by those functions, but our goal here is to learn what is happening!"
   ]
  },
  {
   "cell_type": "code",
   "execution_count": 1,
   "metadata": {},
   "outputs": [],
   "source": [
    "import os \n",
    "import numpy as np\n",
    "import matplotlib.pyplot as plt\n",
    "import scipy.io as spio\n",
    "from scipy.stats import norm \n",
    "import time\n",
    "\n",
    "%matplotlib inline"
   ]
  },
  {
   "cell_type": "markdown",
   "metadata": {},
   "source": [
    "## Construct Ground Truth Mixture of Gaussians Model and Plot Some Points\n",
    "\n",
    "Define some true parameters for our grounf truth mixture of $k$ Gaussians model. We will represent the mixtures of Gaussians as a python dictionary. Not that we are working in one dimension, but if we were to require $d$ dimenisions, the mean field would be a $d \\times k$ matrix and the cov field would be a $d \\times d \\times k$ matrix. "
   ]
  },
  {
   "cell_type": "code",
   "execution_count": 2,
   "metadata": {},
   "outputs": [],
   "source": [
    "mixGaussTrue = dict()\n",
    "mixGaussTrue['k'] = 2 # number of gaussians\n",
    "mixGaussTrue['d'] = 1 # dimension of the data\n",
    "mixGaussTrue['weight'] = np.array([0.3, 0.7]) # weight assigned to each gaussian (lambda_k)\n",
    "mixGaussTrue['mean'] = np.array([[-1,1.5]]) # the mean for each gaussian \n",
    "mixGaussTrue['cov'] = np.reshape([0.5, 0.25], newshape=(1,1,2)) # the covariance for each gaussian"
   ]
  },
  {
   "cell_type": "markdown",
   "metadata": {},
   "source": [
    "**getGaussProb**, **sampleFromDiscrete**, and **drawEMData1d** are helper functions. "
   ]
  },
  {
   "cell_type": "code",
   "execution_count": 3,
   "metadata": {},
   "outputs": [],
   "source": [
    "# subroutine to return gaussian probabilities - just a normal univariate gaussian distribution with mean and variance\n",
    "def getGaussProb(x,mean,var):   \n",
    "    \"\"\"\n",
    "    Returns the likelihood that each data point in x belongs to the Gaussian described by mean and \n",
    "    var.\n",
    "    \n",
    "    Keyword arguments:\n",
    "    x -- 1 by n vector of data points. n is the number of data points.\n",
    "    mean -- scalar containing the mean parameter of the Gaussian distribution.\n",
    "    var -- scalar containing the variance parameter of the Gaussian distribution.\n",
    "    \n",
    "    Returns: \n",
    "    prob -- 1 by n vector containing the likelihood that each data point in data belongs to the Gaussian \n",
    "    distribution defined by mean and var.\n",
    "    \"\"\"\n",
    "    mean = np.squeeze(mean)                                        \n",
    "    var = np.squeeze(var)                                          \n",
    "    prob = np.exp(-0.5*((x-mean)**2)/(var))                        \n",
    "    prob = prob/ np.sqrt(2*np.pi*var)                              \n",
    "    return prob                                                    "
   ]
  },
  {
   "cell_type": "code",
   "execution_count": 4,
   "metadata": {},
   "outputs": [
    {
     "data": {
      "text/plain": [
       "array([7.83543327e-12, 2.97343903e-06])"
      ]
     },
     "execution_count": 4,
     "metadata": {},
     "output_type": "execute_result"
    }
   ],
   "source": [
    "# Let's play with this function and see if it can return values for multiple means and variables (i.e. if we have a mixture of gaussians)\n",
    "\n",
    "mixGaussTrue['weight'] * getGaussProb(4, mixGaussTrue['mean'], mixGaussTrue['cov']) / mixGaussTrue['weight']\n",
    "\n",
    "# Damn, okay, so you can update your code and get rid of for loops! Because you can input the multiple means and covariances here and this\n",
    "# function will return an array with the probabilities of data x in each cluster!"
   ]
  },
  {
   "cell_type": "code",
   "execution_count": 5,
   "metadata": {
    "scrolled": true
   },
   "outputs": [],
   "source": [
    "def sampleFromDiscrete(probDist): \n",
    "    \"\"\"\n",
    "    Draws a random sample from a discrete probability distribution using a rejection sampling method.  \n",
    "    \n",
    "    Keyword arguments:\n",
    "    probDist -- discrete probability ditrubtion to sample from.\n",
    "    \n",
    "    Returns: \n",
    "    r -- sampled point.\n",
    "    \"\"\"\n",
    "\n",
    "    nIndex = len(probDist)                                                                 \n",
    "    while True:                                                                            \n",
    "        #choose random index                                                               \n",
    "        r=int(np.floor(np.random.uniform()*nIndex))                                        \n",
    "        #choose random height                                                              \n",
    "        randHeight = np.random.uniform()                                                   \n",
    "        #if height is less than probability value at this point in the                     \n",
    "        #histogram then select                                                            \n",
    "        if randHeight<probDist[r]:                                                         \n",
    "            break                                                                          \n",
    "    return r                                                                               "
   ]
  },
  {
   "cell_type": "code",
   "execution_count": 19,
   "metadata": {},
   "outputs": [
    {
     "data": {
      "text/plain": [
       "array([1.5])"
      ]
     },
     "execution_count": 19,
     "metadata": {},
     "output_type": "execute_result"
    }
   ],
   "source": [
    "h = sampleFromDiscrete(mixGaussTrue['weight']) \n",
    "# we got 2 weights, so we have two options in the discrete distribution, either 0 or 1. This can represent the hidden variables.\n",
    "# ie. which gaussian we will be using in the mixture of gaussians.\n",
    "\n",
    "mixGaussTrue['cov'][:,:,h]\n",
    "mixGaussTrue['mean'][:,h]\n",
    "# Note that because we are in 1-d, the cov part only has values, not matrices, and so each value in the vector corresponds to\n",
    "# the variance of each of the gaussians that take part in the mixture of gaussians.\n",
    "\n",
    "# if h = 0, we use the parameters of the 1st gaussian, if h = 1 we use the parameters of the 2nd one, and so on."
   ]
  },
  {
   "cell_type": "code",
   "execution_count": 7,
   "metadata": {},
   "outputs": [],
   "source": [
    "def drawEMData1d(data, mixGauss):\n",
    "    \"\"\"\n",
    "    Draw the data, data, in histogram form and plot the mixtures of Gaussian model, mixGauss, on top of it.\n",
    "    \n",
    "    Keyword arguments:\n",
    "    data -- 1 by n vector of data points.\n",
    "    mixGauss -- dict with mixture of gaussian information.\n",
    "\n",
    "    \"\"\"\n",
    "    # delete previous plot if it exists                                                                   \n",
    "    # hold off;                                                                                           \n",
    "    # bin the data to make a histogram                                                                    \n",
    "                                                                                                          \n",
    "    binWidth = 0.1;                                                                                       \n",
    "    binMin = -4.0;                                                                                        \n",
    "    binMax = 4.0;                                                                                         \n",
    "    nSteps = int(np.ceil((binMax - binMin) / binWidth))                                                   \n",
    "                                                                                                          \n",
    "    nDims, nData = data.shape                                                                             \n",
    "                                                                                                          \n",
    "    xHist = np.linspace(binMin, binMax, nSteps, endpoint=True)                                            \n",
    "    xHistExt = np.append(xHist, np.inf)                                                                   \n",
    "    yHist, _ = np.histogram(data, xHistExt)                                     \n",
    "                                                                                                          \n",
    "    yHist = yHist / (nData * binWidth)                                                                    \n",
    "    plt.cla()                                                                                     \n",
    "    plt.bar(xHist, yHist, binWidth, edgecolor='b')                                                        \n",
    "                                                                                                          \n",
    "    # calculate Gaussian data                                                                             \n",
    "    nGauss = mixGauss['k']                                                                                \n",
    "    gaussEnvEst = np.zeros(xHist.shape)                                                                   \n",
    "    for cGauss in range(nGauss):                                                                          \n",
    "        # calculate weighted Gaussian values                                                              \n",
    "        gaussProb = mixGauss['weight'][cGauss] * getGaussProb(xHist, mixGauss['mean'][:,cGauss],          \n",
    "                                                              mixGauss['cov'][:, :, cGauss])              \n",
    "        plt.plot(xHist, gaussProb, 'm-')  # weighted components of MoG                                    \n",
    "        # add to form envelope                                                                            \n",
    "        gaussEnvEst = gaussEnvEst + gaussProb                                                             \n",
    "                                                                                                          \n",
    "    plt.plot(xHist, gaussEnvEst, 'g-')  # final mixture of Gaussians                                      \n",
    "                                                                                                          \n",
    "    # tidy up plot                                                                                        \n",
    "    plt.xlabel('Data Value')                                                                              \n",
    "    plt.ylabel('Probability Density')                                                                     \n",
    "    # set(gca,'Box','Off');                                                                               \n",
    "    # set(gcf,'Color',[1 1 1]);                                                                           \n",
    "    plt.xlim((binMin, binMax))                                                                            \n",
    "    plt.ylim((0, max(yHist) * 1.5))                                                                       \n",
    "                                                                                                          \n",
    "    return                                                                                                \n",
    "    "
   ]
  },
  {
   "cell_type": "markdown",
   "metadata": {},
   "source": [
    "**TODO D HERE:**\n",
    "\n",
    "Complete the TO DO in this function before moving on. \n",
    "\n"
   ]
  },
  {
   "cell_type": "code",
   "execution_count": 20,
   "metadata": {},
   "outputs": [],
   "source": [
    "def mixGaussGen1d(mixGauss, nData):  \n",
    "    \"\"\"\n",
    "    Generates data from a one-dimensional mixture of Gaussians model. \n",
    "    \n",
    "    Keyword arguments:\n",
    "    mixGauss -- dict containing the mixture of gaussians arguments.\n",
    "    nData -- number of data points to generate.\n",
    "    \n",
    "    Returns: \n",
    "    data -- 1 by nData, generated data points. \n",
    "    \"\"\"\n",
    "    \n",
    "    # create space for output data                                                                               \n",
    "    data = np.zeros(shape=(1, nData))                                                                            \n",
    "    # for each data point                                                                                        \n",
    "    for cData in range(nData):                                                                                   \n",
    "        # randomly choose Gaussian according to probability distributions                                        \n",
    "        h = sampleFromDiscrete(mixGauss['weight'])        # this shows us from which of the available gaussians we will sample                                                       \n",
    "        # draw a sample from the appropriate Gaussian distribution                                               \n",
    "        \n",
    "        # TO DO (d)- now we just need to randomly draw a data point from the gaussian distribution specified by h\n",
    "        data[:, cData] = np.random.normal(mixGauss['mean'][:,h], mixGauss['cov'][:,:,h])\n",
    "                                                                        \n",
    "    return data                                                                                                  "
   ]
  },
  {
   "cell_type": "markdown",
   "metadata": {},
   "source": [
    "With all the helper functions complete, we can now generate and plot some points from our model. The blue bars are the histogram of the generated points. The green curve is what the complete mixture of gaussians model looks like. The pink curves are the component gaussians. "
   ]
  },
  {
   "cell_type": "code",
   "execution_count": 21,
   "metadata": {},
   "outputs": [
    {
     "data": {
      "image/png": "[encoded data removed]",
      "text/plain": [
       "<Figure size 432x288 with 1 Axes>"
      ]
     },
     "metadata": {
      "needs_background": "light"
     },
     "output_type": "display_data"
    }
   ],
   "source": [
    "# define number of samples to generate\n",
    "nData = 400\n",
    "\n",
    "#generate data from the mixture of Gaussians\n",
    "#make sure you've filled out the todo above! \n",
    "data = mixGaussGen1d(mixGaussTrue,nData)\n",
    "\n",
    "#plot! \n",
    "fig,ax = plt.subplots(1,1)\n",
    "drawEMData1d(data,mixGaussTrue)"
   ]
  },
  {
   "cell_type": "markdown",
   "metadata": {},
   "source": [
    "This is just a histogram with the data that we have extracted from the True Mixture of Gaussians distribution with two clusters.\n",
    "Each pink line corresponds to each component of the mixture of gaussians, and the green line is the weighted combination of the components, resulting in the final bi-modal distribution."
   ]
  },
  {
   "cell_type": "markdown",
   "metadata": {},
   "source": [
    "## Estimate MoG using the E-M Algorithm\n",
    "Here we want to use the E-M algorithm to fit a MoG model to our data points. \n",
    "\n",
    "**TODO E HERE:** \n",
    "\n",
    "Fill out the missing parts below. "
   ]
  },
  {
   "cell_type": "code",
   "execution_count": 22,
   "metadata": {},
   "outputs": [],
   "source": [
    "def getMixGaussBound(data, mixGaussEst, responsibilities):                                                  \n",
    "    \"\"\"\n",
    "    Calculate the bound on the log likelihood for the whole data set under a mixture of Gaussians model.  \n",
    "    \n",
    "    Keyword arguments:\n",
    "    data -- d by n matrix containing data points.\n",
    "    mixGaussEst -- dict containing the mixture of gaussians parameters.\n",
    "    responsibilities -- k by n vector containing the responsibility of this data point for each Gaussian. \n",
    "                        so each column sums to 1, and each value corresponds to the responsibility of ...\n",
    "                        ... that m data point to cluster k.\n",
    "    \n",
    "    Returns: \n",
    "    bound -- scalar containing the bound on the log likelihood.\n",
    "    \n",
    "    \"\"\"\n",
    "    # find total number of data items                                                                       \n",
    "    nDims, nData = data.shape                                                                               \n",
    "                                                                                                            \n",
    "    # initialize bound                                                                                      \n",
    "    bound = 0                                                                                               \n",
    "    \n",
    "        \n",
    "    # run through each data item                                                                            \n",
    "    for cData in range(nData):                                                                              \n",
    "        # extract this data                                                                                 \n",
    "        thisData = data[:, cData]                                                                           \n",
    "        # extract this q(h)                                                                                 \n",
    "        thisQ = responsibilities[:, cData]                                                                  \n",
    "                                                                                                            \n",
    "        # TO DO (e) - calculate contribution to bound of this datapoint.\n",
    "        # Note that because we are in 1-d, we can use the getGaussProb function defined before.\n",
    "        # No need to worry about thisData being multi-dimensional (column or row vector). It is just a 1-dimensional array.   \n",
    "\n",
    "        boundValue = 0\n",
    "\n",
    "        '''\n",
    "        for k in range(mixGaussEst['k']): \n",
    "            lam = mixGaussEst['weight'][k]\n",
    "            mu = mixGaussEst['mean'][0][k]\n",
    "            sigma = mixGaussEst['cov'][0][0][k]\n",
    "            rik = thisQ[k]\n",
    "            boundValue += rik * np.log(lam * getGaussProb(thisData, mu, sigma) / rik)\n",
    "        \n",
    "        '''\n",
    "        lam = mixGaussEst['weight']\n",
    "        mu = mixGaussEst['mean']\n",
    "        sigma = mixGaussEst['cov']\n",
    "        boundValue = np.sum(thisQ * np.log(lam * getGaussProb(thisData, mu, sigma) / thisQ))\n",
    "            \n",
    "        # add to total log like                                                                             \n",
    "        bound = bound + boundValue                                                                          \n",
    "                                                                                                            \n",
    "    return bound.item() # np.asscalar(np.array(bound)) -- this modification was suggested when I ran the code                                                                          "
   ]
  },
  {
   "cell_type": "markdown",
   "metadata": {},
   "source": [
    "**TODO F HERE:** \n",
    "\n",
    "Fill out the missing parts below. \n",
    "\n",
    "The log likelihood is taken since the raw likelihood value could be too small for our machine's percision. "
   ]
  },
  {
   "cell_type": "code",
   "execution_count": 23,
   "metadata": {},
   "outputs": [],
   "source": [
    "def getMixGaussLogLike(data, mixGaussEst):\n",
    "    \"\"\"\n",
    "    Calculate the log likelihood for the whole dataset under a mixture of Gaussians model.\n",
    "    \n",
    "    Keyword arguments:\n",
    "    data -- d by n matrix containing data points.\n",
    "    mixGaussEst -- dict containing the mixture of gaussians parameters.\n",
    "\n",
    "    Returns: \n",
    "    logLike -- scalar containing the log likelihood.\n",
    "    \n",
    "    \"\"\"\n",
    "    data = np.atleast_2d(data)                                                                         \n",
    "    # find total number of data items                                                                  \n",
    "    nDims, nData = data.shape                                                                          \n",
    "    \n",
    "    # initialize log likelihoods                                                                       \n",
    "    logLike = 0;                                                                                       \n",
    "                                                                                                       \n",
    "    # run through each data item                                                                       \n",
    "    for cData in range(nData):                                                                         \n",
    "        thisData = data[:, cData]    \n",
    "        \n",
    "        # TO DO (f) - calculate likelihood of this data point under mixture of                         \n",
    "        # Gaussians model.\n",
    "        like = 0\n",
    "        \n",
    "        '''\n",
    "        for k in range(mixGaussEst['k']):\n",
    "            lam = mixGaussEst['weight'][k]\n",
    "            mu = mixGaussEst['mean'][0][k]\n",
    "            sigma = mixGaussEst['cov'][0][0][k]                                                               \n",
    "            like += lam * getGaussProb(thisData, mu, sigma)\n",
    "        '''\n",
    "        \n",
    "        lam = mixGaussEst['weight']\n",
    "        mu = mixGaussEst['mean']\n",
    "        sigma = mixGaussEst['cov']\n",
    "        like = np.sum(lam * getGaussProb(thisData, mu, sigma))                                                                                             \n",
    "        # add to total log like                                                                        \n",
    "        logLike = logLike + np.log(like)                                                               \n",
    "                                                                                                       \n",
    "    return  logLike.item() # np.asscalar(np.array(logLike)) -- this modification was suggested when I ran the code                                                                       \n",
    "                                                                                                       "
   ]
  },
  {
   "cell_type": "markdown",
   "metadata": {},
   "source": [
    "**TODO G HERE:** \n",
    "\n",
    "Fill out the missing parts below. "
   ]
  },
  {
   "cell_type": "code",
   "execution_count": 24,
   "metadata": {},
   "outputs": [],
   "source": [
    "def fitMixGauss1d(data, k):   \n",
    "    \"\"\"\n",
    "    Estimate a k MoG model that would fit the data. Incremently plots the outcome.\n",
    "               \n",
    "    \n",
    "    Keyword arguments:\n",
    "    data -- d by n matrix containing data points. Note that in this part of the tutorial d = 1.\n",
    "    k -- scalar representing the number of gaussians to use in the MoG model.\n",
    "    \n",
    "    Returns: \n",
    "    mixGaussEst -- dict containing the estimated MoG parameters.\n",
    "    \n",
    "    \"\"\"\n",
    "    #     MAIN E-M ROUTINE  \n",
    "    #     In the E-M algorithm, we calculate a complete posterior distribution over                                  \n",
    "    #     the (nData) hidden variables in the E-Step.  \n",
    "    #     In the M-Step, we update the parameters of the Gaussians (mean, cov, w).   \n",
    "    \n",
    "    nDims, nData = data.shape                                                                                        \n",
    "                                                                                                                     \n",
    "                                                                                                      \n",
    "    responsibilities = np.zeros(shape=(k, nData))                                                                    \n",
    "                                                                                                                     \n",
    "    # we will initialize the values to random values                                                                 \n",
    "    mixGaussEst = dict()                                                                                             \n",
    "    mixGaussEst['d'] = 1                                                                                             \n",
    "    mixGaussEst['k'] = k                                                                                             \n",
    "    mixGaussEst['weight'] = (1 / k) * np.ones(shape=(k))                                                             \n",
    "    mixGaussEst['mean'] = 2 * np.random.randn(1, k)                                                                  \n",
    "    mixGaussEst['cov'] = 0.1 + 1.5*np.random.uniform(size=(1,1,2))                                                   \n",
    "                                                                                                                     \n",
    "    # calculate current likelihood                                                                                   \n",
    "    # TO DO (g) starts here- fill in this routine                                                                                   \n",
    "    logLike = getMixGaussLogLike(data, mixGaussEst)                                                                  \n",
    "    print('Log Likelihood Iter 0 : {:4.3f}\\n'.format(logLike))                                                       \n",
    "                                                                                                                     \n",
    "    nIter = 20;                                                                                                      \n",
    "                                                                                                                     \n",
    "    logLikeVec = np.zeros(shape=(2 * nIter))                                                                         \n",
    "    boundVec = np.zeros(shape=(2 * nIter)) \n",
    "    \n",
    "    fig,ax = plt.subplots(1,1)\n",
    "                                                                                                                     \n",
    "    for cIter in range(nIter):                                                                                       \n",
    "                                                                                                                     \n",
    "        # ===================== =====================                                                                \n",
    "        # Expectation step                                                                                           \n",
    "        # ===================== =====================                                                                \n",
    "        curCov = mixGaussEst['cov']                                                                                  \n",
    "        curWeight = mixGaussEst['weight']                                                                            \n",
    "        curMean = mixGaussEst['mean']                                                                                \n",
    "        for cData in range(nData):           \n",
    "            # TO DO: fill in column of 'hidden' - caculate posterior probability that                                \n",
    "            # this data point came from each of the Gaussians                                                        \n",
    "            thisData = data[:, cData]\n",
    "            numerator = curWeight * getGaussProb(thisData, curMean, curCov)                                                                                          \n",
    "            responsibilities[:, cData] = numerator / np.sum(numerator)\n",
    "\n",
    "\n",
    "        # calculate the log likelihood                                                                               \n",
    "        logLike = getMixGaussLogLike(data, mixGaussEst)                                                              \n",
    "        print('Log Likelihood After E-Step Iter {} : {:4.3f}\\n'.format(cIter, logLike))                              \n",
    "                                                                                                                     \n",
    "        # calculate the bound                                                                                        \n",
    "        # TO DO - Fill in this routine                                                                               \n",
    "        bound = getMixGaussBound(data, mixGaussEst, responsibilities)                                                \n",
    "        print('Bound After E-Step Iter {} : {:4.3f}\\n'.format(cIter, bound))     \n",
    "        \n",
    "        logLikeVec[2 * cIter] = logLike                                                                              \n",
    "        boundVec[2 * cIter] = bound                                                                                  \n",
    "        # ===================== =====================                                                                \n",
    "        # Maximization Step                                                                                          \n",
    "        # ===================== =====================                                                                \n",
    "        # for each constituent Gaussian                                                                              \n",
    "        for cGauss in range(k):                                                                                      \n",
    "            # TO DO:  Update weighting parameters mixGauss.weight based on the total                                 \n",
    "            # posterior probability associated with each Gaussian. Replace this:\n",
    "            # But first of all, it's useful to calculate the total responsibility allocated to each cluser (mc)\n",
    "            # i.e. we sum the responsibility values along the cluster dimension (along the rows in this case)\n",
    "            # --> it's just summing the responsibility of all data points for each cluster (sum all cols for each row).\n",
    "\n",
    "            mc = np.sum(responsibilities[cGauss,:])\n",
    "\n",
    "            mixGaussEst['weight'][cGauss] = mc / nData\n",
    "            \n",
    "                                                                                                                 \n",
    "            # TO DO:  Update mean parameters mixGauss.mean by weighted average                                       \n",
    "            # where weights are given by posterior probability associated with                                       \n",
    "            # Gaussian.  Replace this:                                    \n",
    "            mixGaussEst['mean'][:,cGauss] = (1/mc) * np.sum(responsibilities[cGauss,:] * data)\n",
    "            \n",
    "            \n",
    "            # TO DO:  Update covarance parameter based on weighted average of                                        \n",
    "            # square distance from update mean, where weights are given by                                           \n",
    "            # posterior probability associated with Gaussian                                                         \n",
    "            mixGaussEst['cov'][:,:,cGauss] = (1/mc) * np.sum(responsibilities[cGauss,:] * (data - mixGaussEst['mean'][:,cGauss])**2) \n",
    "            # Note that we can do **2 here and not worry about dimensions because we are in 1-d.\n",
    "            \n",
    "                                                                                                                     \n",
    "        # draw the new solution  \n",
    "        drawEMData1d(data, mixGaussEst)\n",
    "        time.sleep(0.7)\n",
    "        fig.canvas.draw()\n",
    "                                                                                                                     \n",
    "        # calculate the log likelihood                                                                               \n",
    "        logLike = getMixGaussLogLike(data, mixGaussEst)                                                              \n",
    "        print('Log Likelihood After M-Step Iter {} : {:4.3f}\\n'.format(cIter, logLike))                              \n",
    "                                                                                                                     \n",
    "        # calculate the bound                                                                                        \n",
    "        bound = getMixGaussBound(data, mixGaussEst, responsibilities)                                                \n",
    "        print('Bound After M-Step Iter {} : {:4.3f}\\n'.format(cIter, bound)) \n",
    "                                                                                                                  \n",
    "        logLikeVec[2 * cIter + 1] = logLike                                                                          \n",
    "        boundVec[2 * cIter + 1] = bound                                                                              \n",
    "                                                                                                                     \n",
    "    plt.figure()                                                                                                     \n",
    "    plt.plot(logLikeVec, 'g',label='log likelihood')                                                                                        \n",
    "    plt.plot(boundVec, 'r',label='lower bound')  \n",
    "    plt.legend()\n",
    "                                                                                                                     \n",
    "    return mixGaussEst                                                                                               "
   ]
  },
  {
   "cell_type": "markdown",
   "metadata": {},
   "source": [
    "### Time to put it all together!\n",
    "\n",
    "Make sure you've filled all the TO DOs above! "
   ]
  },
  {
   "cell_type": "code",
   "execution_count": 25,
   "metadata": {},
   "outputs": [
    {
     "name": "stdout",
     "output_type": "stream",
     "text": [
      "Log Likelihood Iter 0 : -1260.077\n",
      "\n",
      "Log Likelihood After E-Step Iter 0 : -1260.077\n",
      "\n",
      "Bound After E-Step Iter 0 : -1260.077\n",
      "\n",
      "Log Likelihood After M-Step Iter 0 : -616.074\n",
      "\n",
      "Bound After M-Step Iter 0 : -635.402\n",
      "\n",
      "Log Likelihood After E-Step Iter 1 : -616.074\n",
      "\n",
      "Bound After E-Step Iter 1 : -616.074\n",
      "\n",
      "Log Likelihood After M-Step Iter 1 : -558.833\n",
      "\n",
      "Bound After M-Step Iter 1 : -592.334\n",
      "\n",
      "Log Likelihood After E-Step Iter 2 : -558.833\n",
      "\n",
      "Bound After E-Step Iter 2 : -558.833\n",
      "\n",
      "Log Likelihood After M-Step Iter 2 : -494.392\n",
      "\n",
      "Bound After M-Step Iter 2 : -524.995\n",
      "\n",
      "Log Likelihood After E-Step Iter 3 : -494.392\n",
      "\n",
      "Bound After E-Step Iter 3 : -494.392\n",
      "\n",
      "Log Likelihood After M-Step Iter 3 : -454.157\n",
      "\n",
      "Bound After M-Step Iter 3 : -471.038\n",
      "\n",
      "Log Likelihood After E-Step Iter 4 : -454.157\n",
      "\n",
      "Bound After E-Step Iter 4 : -454.157\n",
      "\n",
      "Log Likelihood After M-Step Iter 4 : -430.726\n",
      "\n",
      "Bound After M-Step Iter 4 : -441.116\n",
      "\n",
      "Log Likelihood After E-Step Iter 5 : -430.726\n",
      "\n",
      "Bound After E-Step Iter 5 : -430.726\n",
      "\n",
      "Log Likelihood After M-Step Iter 5 : -413.777\n",
      "\n",
      "Bound After M-Step Iter 5 : -421.616\n",
      "\n",
      "Log Likelihood After E-Step Iter 6 : -413.777\n",
      "\n",
      "Bound After E-Step Iter 6 : -413.777\n",
      "\n",
      "Log Likelihood After M-Step Iter 6 : -397.772\n",
      "\n",
      "Bound After M-Step Iter 6 : -405.573\n",
      "\n",
      "Log Likelihood After E-Step Iter 7 : -397.772\n",
      "\n",
      "Bound After E-Step Iter 7 : -397.772\n",
      "\n",
      "Log Likelihood After M-Step Iter 7 : -375.812\n",
      "\n",
      "Bound After M-Step Iter 7 : -387.044\n",
      "\n",
      "Log Likelihood After E-Step Iter 8 : -375.812\n",
      "\n",
      "Bound After E-Step Iter 8 : -375.812\n",
      "\n",
      "Log Likelihood After M-Step Iter 8 : -348.593\n",
      "\n",
      "Bound After M-Step Iter 8 : -357.691\n",
      "\n",
      "Log Likelihood After E-Step Iter 9 : -348.593\n",
      "\n",
      "Bound After E-Step Iter 9 : -348.593\n",
      "\n",
      "Log Likelihood After M-Step Iter 9 : -344.328\n",
      "\n",
      "Bound After M-Step Iter 9 : -344.439\n",
      "\n",
      "Log Likelihood After E-Step Iter 10 : -344.328\n",
      "\n",
      "Bound After E-Step Iter 10 : -344.328\n",
      "\n",
      "Log Likelihood After M-Step Iter 10 : -344.326\n",
      "\n",
      "Bound After M-Step Iter 10 : -344.326\n",
      "\n",
      "Log Likelihood After E-Step Iter 11 : -344.326\n",
      "\n",
      "Bound After E-Step Iter 11 : -344.326\n",
      "\n",
      "Log Likelihood After M-Step Iter 11 : -344.326\n",
      "\n",
      "Bound After M-Step Iter 11 : -344.326\n",
      "\n",
      "Log Likelihood After E-Step Iter 12 : -344.326\n",
      "\n",
      "Bound After E-Step Iter 12 : -344.326\n",
      "\n",
      "Log Likelihood After M-Step Iter 12 : -344.326\n",
      "\n",
      "Bound After M-Step Iter 12 : -344.326\n",
      "\n",
      "Log Likelihood After E-Step Iter 13 : -344.326\n",
      "\n",
      "Bound After E-Step Iter 13 : -344.326\n",
      "\n",
      "Log Likelihood After M-Step Iter 13 : -344.326\n",
      "\n",
      "Bound After M-Step Iter 13 : -344.326\n",
      "\n",
      "Log Likelihood After E-Step Iter 14 : -344.326\n",
      "\n",
      "Bound After E-Step Iter 14 : -344.326\n",
      "\n",
      "Log Likelihood After M-Step Iter 14 : -344.326\n",
      "\n",
      "Bound After M-Step Iter 14 : -344.326\n",
      "\n",
      "Log Likelihood After E-Step Iter 15 : -344.326\n",
      "\n",
      "Bound After E-Step Iter 15 : -344.326\n",
      "\n",
      "Log Likelihood After M-Step Iter 15 : -344.326\n",
      "\n",
      "Bound After M-Step Iter 15 : -344.326\n",
      "\n",
      "Log Likelihood After E-Step Iter 16 : -344.326\n",
      "\n",
      "Bound After E-Step Iter 16 : -344.326\n",
      "\n",
      "Log Likelihood After M-Step Iter 16 : -344.326\n",
      "\n",
      "Bound After M-Step Iter 16 : -344.326\n",
      "\n",
      "Log Likelihood After E-Step Iter 17 : -344.326\n",
      "\n",
      "Bound After E-Step Iter 17 : -344.326\n",
      "\n",
      "Log Likelihood After M-Step Iter 17 : -344.326\n",
      "\n",
      "Bound After M-Step Iter 17 : -344.326\n",
      "\n",
      "Log Likelihood After E-Step Iter 18 : -344.326\n",
      "\n",
      "Bound After E-Step Iter 18 : -344.326\n",
      "\n",
      "Log Likelihood After M-Step Iter 18 : -344.326\n",
      "\n",
      "Bound After M-Step Iter 18 : -344.326\n",
      "\n",
      "Log Likelihood After E-Step Iter 19 : -344.326\n",
      "\n",
      "Bound After E-Step Iter 19 : -344.326\n",
      "\n",
      "Log Likelihood After M-Step Iter 19 : -344.326\n",
      "\n",
      "Bound After M-Step Iter 19 : -344.326\n",
      "\n"
     ]
    },
    {
     "data": {
      "image/png": "[encoded data removed]",
      "text/plain": [
       "<Figure size 432x288 with 1 Axes>"
      ]
     },
     "metadata": {
      "needs_background": "light"
     },
     "output_type": "display_data"
    },
    {
     "data": {
      "image/png": "[encoded data removed]",
      "text/plain": [
       "<Figure size 432x288 with 1 Axes>"
      ]
     },
     "metadata": {
      "needs_background": "light"
     },
     "output_type": "display_data"
    },
    {
     "data": {
      "image/png": "[encoded data removed]",
      "text/plain": [
       "<Figure size 432x288 with 1 Axes>"
      ]
     },
     "metadata": {
      "needs_background": "light"
     },
     "output_type": "display_data"
    }
   ],
   "source": [
    "#generate data from the ground truth mixture of Gaussians we've defined way above. \n",
    "#make sure you've completed this routine above.\n",
    "data = mixGaussGen1d(mixGaussTrue,nData)\n",
    "\n",
    "#draw data, ground truth mixture of Gaussians.\n",
    "drawEMData1d(data,mixGaussTrue)\n",
    "\n",
    "#define number of components to estimate\n",
    "nGaussEst = 2\n",
    "\n",
    "#fit mixture of Gaussians (Pretend someone handed you some data. Now what?)\n",
    "#Make sure you've completed this routine above.\n",
    "mixGaussEst = fitMixGauss1d(data,nGaussEst)\n",
    "#plt.show()"
   ]
  },
  {
   "cell_type": "markdown",
   "metadata": {},
   "source": [
    "In this last set of plots we can observe how we have fitted the data from the true mixture of gaussians with an estimated mixture of gaussians using the E-M algorithm.  The resulting estimated distribution fits well the data, proving that the EM has converged. The weights of the gaussians and their respective means are almost the same as the ones in the true distribution. However, the variances are way smaller than in the true gaussian, fitting the data more tightly, which can result in overfitting (bias/variance tradeoff). To avoid this we could introduce a validation set.\n",
    "\n",
    "The final plot shows the E and M steps in every iteration. In the maximisation step, the model parameters are updated, and the log likelihood is  higher than the lower bound. Then in the expectation step, every data point is re-associated to each of the clusters (re-calculation of responsibilities), and so the log likelihood does not update, but the lower bound, dependent on the responsibilities, catches up with the log likelihood.\n",
    "\n",
    "We can also observe how the algorithm converges very quickly in the first iterations. Then the convergence slows down until reaching a plateau, which can be considered to be our solution. In this case, we reach a solution after 20 iterations. The remaining iterations are not really necessary, so we could dispense with them in order to accelerate our code."
   ]
  },
  {
   "cell_type": "code",
   "execution_count": 26,
   "metadata": {},
   "outputs": [
    {
     "name": "stdout",
     "output_type": "stream",
     "text": [
      "{'d': 1, 'k': 2, 'weight': array([0.32500501, 0.67499499]), 'mean': array([[-1.07307483,  1.48526298]]), 'cov': array([[[0.21531019, 0.06188007]]])}\n",
      "{'k': 2, 'd': 1, 'weight': array([0.3, 0.7]), 'mean': array([[-1. ,  1.5]]), 'cov': array([[[0.5 , 0.25]]])}\n"
     ]
    }
   ],
   "source": [
    "# Check results\n",
    "\n",
    "print(mixGaussEst)\n",
    "\n",
    "print(mixGaussTrue)\n",
    "\n"
   ]
  }
 ],
 "metadata": {
  "interpreter": {
   "hash": "989a8ee0261a415be34d4cf0f45e98134ff6fbcaa2e29b3efcaef888d322ba01"
  },
  "kernelspec": {
   "display_name": "Python 3.8.8 64-bit ('base': conda)",
   "name": "python3"
  },
  "language_info": {
   "codemirror_mode": {
    "name": "ipython",
    "version": 3
   },
   "file_extension": ".py",
   "mimetype": "text/x-python",
   "name": "python",
   "nbconvert_exporter": "python",
   "pygments_lexer": "ipython3",
   "version": "3.8.8"
  }
 },
 "nbformat": 4,
 "nbformat_minor": 4
}
