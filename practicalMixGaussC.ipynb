{
 "cells": [
  {
   "cell_type": "markdown",
   "metadata": {},
   "source": [
    "# practicalMixGaussC\n",
    "\n",
    "The goal of this part of the lab is to fit a mixture of gaussians model to some multi-dimensional data. To do this, we will first generate some data from a known mixture of gaussians model and fit our own mixture of gaussians model to the generated data. The parameters from our estimated mixture of gaussians model should roughly match those of the original known model. \n",
    "\n",
    "Note that you should not use multivariate_normal.pdf for calculating likelihood.\n",
    "\n",
    "You should use this template for your code and fill in the missing \n",
    "sections marked \"TO DO.\"\n",
    "\n"
   ]
  },
  {
   "cell_type": "code",
   "execution_count": 1,
   "metadata": {},
   "outputs": [
    {
     "name": "stderr",
     "output_type": "stream",
     "text": [
      "UsageError: unrecognized arguments: # if this was just 'notebook' the plots would not appear, only text output.\n"
     ]
    }
   ],
   "source": [
    "import os \n",
    "import numpy as np\n",
    "import matplotlib.pyplot as plt\n",
    "import scipy.io as spio\n",
    "from scipy.stats import norm \n",
    "from scipy.stats import multivariate_normal\n",
    "import time\n",
    "import sys\n",
    "\n",
    "from numpy import sqrt, pi, exp, transpose, matmul\n",
    "from numpy.linalg import det, inv\n",
    "\n",
    "flt_min = sys.float_info.min\n",
    "\n",
    "%matplotlib inline # if this was just 'notebook' the plots would not appear, only text output."
   ]
  },
  {
   "cell_type": "markdown",
   "metadata": {
    "collapsed": true
   },
   "source": [
    "## Construct Ground Truth Mixture of Gaussians Model and Plot Some Points\n",
    "\n",
    "Define some true parameters for our ground truth mixture of $k$ Gaussians model. We will represent the \n",
    "mixtures of Gaussians as a python dictionary. The mean field is a $d \\times k$ matrix and the cov field is a \n",
    "$d \\times d \\times k$ matrix."
   ]
  },
  {
   "cell_type": "code",
   "execution_count": 2,
   "metadata": {},
   "outputs": [],
   "source": [
    "mixGaussTrue = dict()\n",
    "mixGaussTrue['k'] = 3\n",
    "mixGaussTrue['d'] = 2\n",
    "mixGaussTrue['weight'] = np.array([0.1309, 0.3966, 0.4725])\n",
    "mixGaussTrue['mean'] = np.array([[ 4.0491 , 4.8597],[ 7.7578 , 1.6335],[ 11.9945, 8.9206]]).T\n",
    "mixGaussTrue['cov'] = np.reshape([0.5, 0.25], newshape=(1,1,2))\n",
    "mixGaussTrue['cov'] = np.zeros(shape=(mixGaussTrue['d'],mixGaussTrue['d'],mixGaussTrue['k']))\n",
    "mixGaussTrue['cov'][:,:,0] = np.array([[  4.2534, 0.4791], [0.4791, 0.3522]])\n",
    "mixGaussTrue['cov'][:,:,1] = np.array([[  0.9729, 0.8723],[  0.8723,  2.6317]])\n",
    "mixGaussTrue['cov'][:,:,2] = np.array([[  0.9886, -1.2244],[ -1.2244, 3.0187]])"
   ]
  },
  {
   "cell_type": "markdown",
   "metadata": {
    "collapsed": true
   },
   "source": [
    "**drawEMData2d**, **sampleFromDiscrete**, **getGaussian2SD**, and **drawGaussianOutline** are helper functions."
   ]
  },
  {
   "cell_type": "code",
   "execution_count": 3,
   "metadata": {
    "scrolled": true
   },
   "outputs": [],
   "source": [
    "def sampleFromDiscrete(probDist):     \n",
    "    \"\"\"\n",
    "    Draws a random sample from a discrete probability distribution using a rejection sampling method.  \n",
    "    \n",
    "    Keyword arguments:\n",
    "    probDist -- discrete probability ditrubtion to sample from.\n",
    "    \n",
    "    Returns: \n",
    "    r -- sampled point.\n",
    "    \"\"\"\n",
    "    nIndex = len(probDist)                                                                 \n",
    "    while True:                                                                            \n",
    "        #choose random index                                                               \n",
    "        r=int(np.floor(np.random.uniform()*nIndex))                                        \n",
    "        #choose random height                                                              \n",
    "        randHeight = np.random.uniform()                                                   \n",
    "        #if height is less than probability value at this point in the                     \n",
    "        # histogram then select                                                            \n",
    "        if randHeight<probDist[r]:                                                         \n",
    "            break                                                                          \n",
    "    return r                                                                               "
   ]
  },
  {
   "cell_type": "code",
   "execution_count": 4,
   "metadata": {},
   "outputs": [
    {
     "name": "stdout",
     "output_type": "stream",
     "text": [
      "[4.0491 4.8597]\n",
      "[[4.2534 0.4791]\n",
      " [0.4791 0.3522]]\n"
     ]
    }
   ],
   "source": [
    "# Understand what sampleFromDiscrete does:\n",
    "h = sampleFromDiscrete(mixGaussTrue['weight']) \n",
    "# now h is either 0, 1 or 2, becauase we have 3 classes in the distribution (i.e. 3 gaussians to choose from)\n",
    "\n",
    "# Understand the indexing to access the means and covariances of each gaussian from the dictionary:\n",
    "print(mixGaussTrue['mean'][:,0]) # the multivariate means for each gaussian are stored as column vectors, and you can access them like this.\n",
    "print(mixGaussTrue['cov'][:,:,0]) # the covariances for each gaussian can be accessed like this."
   ]
  },
  {
   "cell_type": "code",
   "execution_count": 5,
   "metadata": {},
   "outputs": [],
   "source": [
    "def getGaussian2SD(m,s,angle1):\n",
    "    \"\"\"\n",
    "    Find position of in xy co-ordinates at 2SD out for a certain angle.\n",
    "    \"\"\"\n",
    "  \n",
    "    if s.shape[1] == 1:\n",
    "        s = np.diag(s)\n",
    "\n",
    "    vec = np.array([np.cos(angle1), np.sin(angle1)])\n",
    "    \n",
    "    factor = 4/(vec@np.linalg.inv(s)@vec.T)\n",
    "    \n",
    "    x = np.cos(angle1) * np.sqrt(factor)\n",
    "    y = np.sin(angle1) * np.sqrt(factor)\n",
    "\n",
    "    x = x + m[0]\n",
    "    y = y + m[1]\n",
    "                \n",
    "    return x,y"
   ]
  },
  {
   "cell_type": "code",
   "execution_count": 6,
   "metadata": {},
   "outputs": [],
   "source": [
    "def drawGaussianOutline(m,s,w):\n",
    "    \"\"\"\n",
    "    Draw 2DGaussian\n",
    "    \"\"\"\n",
    "    angleInc = 0.1    \n",
    "    c = (0.9*(1-w), 0, 0)\n",
    "\n",
    "    for cAngle in np.arange(0,2*np.pi,angleInc):         \n",
    "        angle1 = cAngle\n",
    "        angle2 = cAngle+angleInc\n",
    "        x1, y1 = getGaussian2SD(m,s,angle1)\n",
    "        x2, y2 = getGaussian2SD(m,s,angle2)\n",
    "        plt.plot([x1, x2],[y1, y2],'-',linewidth=2,color=c)                 \n",
    "    return"
   ]
  },
  {
   "cell_type": "code",
   "execution_count": 7,
   "metadata": {},
   "outputs": [],
   "source": [
    "def drawEMData2d(data,mixGauss):\n",
    "    \"\"\"\n",
    "    Plot the data plot the mixtures of Gaussian model, mixGauss, on top of it.\n",
    "    \n",
    "    Keyword arguments:\n",
    "    data -- d by n matrix of data points.\n",
    "    mixGauss -- dict with mixture of gaussian information.\n",
    "    \n",
    "    \"\"\"\n",
    "    #set(gcf,'Color',[1 1 1])\n",
    "    plt.cla() \n",
    "    plt.plot(data[0,:],data[1,:],'k.')\n",
    "\n",
    "    for cGauss in range(mixGauss['k']):\n",
    "        drawGaussianOutline(mixGauss['mean'][:,cGauss],mixGauss['cov'][:,:,cGauss],mixGauss['weight'][cGauss])\n",
    "    \n",
    "    return     \n"
   ]
  },
  {
   "cell_type": "markdown",
   "metadata": {},
   "source": [
    "**TODO H HERE:**\n",
    "\n",
    "Complete the TO DO in this function before moving on."
   ]
  },
  {
   "cell_type": "code",
   "execution_count": 8,
   "metadata": {},
   "outputs": [],
   "source": [
    "def mixGaussGen(mixGauss, nData):                                                                              \n",
    "    \"\"\"\n",
    "    Generates data from a d-dimensional mixture of Gaussians model. \n",
    "    \n",
    "    Keyword arguments:\n",
    "    mixGauss -- dict containing the mixture of gaussians arguments.\n",
    "    nData -- number of data points to generate.\n",
    "    \n",
    "    Returns: \n",
    "    data -- d by nData, generated data points. \n",
    "    \n",
    "    \"\"\"\n",
    "    # create space for output data                                                                               \n",
    "    data = np.zeros(shape=(mixGauss['d'], nData))                                                                            \n",
    "    # for each data point                                                                                        \n",
    "    for cData in range(nData):                                                                                   \n",
    "        # randomly choose Gaussian according to probability distributions                                        \n",
    "        h = sampleFromDiscrete(mixGauss['weight'])                                                               \n",
    "        # draw a sample from the appropriate Gaussian distribution  \n",
    "        # first sample from the covariance matrix (google how to do this - it\n",
    "        # will involve the numpy function np.linalg.cholesky().  Then add the mean vector\n",
    "        # TO DO (h)- insert data generation code here:\n",
    "        data[:,cData] = mixGauss['mean'][:,h] + np.linalg.cholesky(mixGauss['cov'][:,:,h]) @ np.random.normal(size=2)\n",
    "\n",
    "        # Why can't we just use np.random.multivariate_normal(mean, cov)??\n",
    "        # data[:,cData] = np.random.multivariate_normal(mixGauss['mean'][:,h], mixGauss['cov'][:,:,h])  \n",
    "                                                                                                         \n",
    "    return data"
   ]
  },
  {
   "cell_type": "markdown",
   "metadata": {},
   "source": [
    "With all the helper functions complete, we can now generate and plot some points from our model. The black points are the generated data points. The circles are what the gaussians look like."
   ]
  },
  {
   "cell_type": "code",
   "execution_count": 9,
   "metadata": {},
   "outputs": [
    {
     "data": {
      "image/png": "[encoded data removed]",
      "text/plain": [
       "<Figure size 432x288 with 1 Axes>"
      ]
     },
     "metadata": {
      "needs_background": "light"
     },
     "output_type": "display_data"
    }
   ],
   "source": [
    "#define number of samples to generate\n",
    "nData = 400\n",
    "\n",
    "#generate data from the mixture of Gaussians\n",
    "#make sure you've filled in the routine above.\n",
    "data = mixGaussGen(mixGaussTrue,nData)\n",
    "\n",
    "#draw data, true Gaussians\n",
    "drawEMData2d(data,mixGaussTrue)"
   ]
  },
  {
   "cell_type": "markdown",
   "metadata": {},
   "source": [
    "This plot shows the three clusters of data generated from the three gaussian distributions specified in the true mixture of gaussians."
   ]
  },
  {
   "cell_type": "markdown",
   "metadata": {
    "collapsed": true
   },
   "source": [
    "## Estimate MoG using the E-M Algorithm\n",
    "Here we want to use the E-M algorithm to fit a MoG model to our data points. \n",
    "\n",
    "**TODO I HERE:** \n",
    "\n",
    "Fill out the missing parts below. \n",
    "\n",
    "The log likelihood is taken since the raw likelihood value could be too small for our machine's percision."
   ]
  },
  {
   "cell_type": "code",
   "execution_count": 10,
   "metadata": {},
   "outputs": [],
   "source": [
    "#the goal of this routine is to evaluate a Gaussian likelihood\n",
    "def getGaussProb(data,gaussMean,gaussCov):\n",
    "    \"\"\"\n",
    "    Returns the likelihood that each data point in data belongs to the Gaussian described by gaussMean and \n",
    "    gaussCov.\n",
    "    \n",
    "    Keyword arguments:\n",
    "    data -- d by 1 matrix of one data point. d is the number of dimensions of that data point\n",
    "    gaussMean -- d by 1 vector containing the mean parameter of the Gaussian distribution.\n",
    "    gaussCov -- d by d matrix containing the covariance parameters of the Gaussian distribution.\n",
    "    \n",
    "    Returns: \n",
    "    like -- 1 by n vector contianing the likelihood that each data point in data belongs to the Gaussian \n",
    "    distribution defined by gaussMean and gaussCov.\n",
    "    \"\"\"\n",
    "    nDim = data.shape[0]\n",
    "    \n",
    "    #TO DO (b) - fill in this routine, replace the placeholders for like with the actual equation.\n",
    "    \n",
    "    like = 1/((2*pi)**(nDim/2)) * det(gaussCov)**(-1/2) * exp(-0.5 * (np.expand_dims(data-gaussMean,1).T @ inv(gaussCov) @ (np.expand_dims(data-gaussMean,1))))\n",
    "\n",
    "    return like.item()"
   ]
  },
  {
   "cell_type": "code",
   "execution_count": 11,
   "metadata": {},
   "outputs": [
    {
     "name": "stdout",
     "output_type": "stream",
     "text": [
      "[1 3]\n",
      "[4.0491 4.8597]\n",
      "[[1]\n",
      " [3]]\n",
      "0.0010036909687124148\n"
     ]
    },
    {
     "data": {
      "text/plain": [
       "0.0010036909687124141"
      ]
     },
     "execution_count": 11,
     "metadata": {},
     "output_type": "execute_result"
    }
   ],
   "source": [
    "# TRIALS\n",
    "\n",
    "x = np.array([[1,3],[5,2],[4,1]]).T\n",
    "thisdata = x[:,0]\n",
    "thismean = mixGaussTrue['mean'][:,0]\n",
    "thiscov = mixGaussTrue['cov'][:,:,0]\n",
    "\n",
    "print(thisdata)\n",
    "print(thismean)\n",
    "print(np.expand_dims(thisdata,1))\n",
    "\n",
    "print(getGaussProb(thisdata, thismean, thiscov))\n",
    "multivariate_normal.pdf(thisdata, thismean, thiscov)\n"
   ]
  },
  {
   "cell_type": "code",
   "execution_count": 12,
   "metadata": {},
   "outputs": [],
   "source": [
    "def getMixGaussLogLike(data, mixGaussEst): \n",
    "    \"\"\"\n",
    "    Calculate the log likelihood for the whole dataset under a mixture of Gaussians model.\n",
    "    \n",
    "    Keyword arguments:\n",
    "    data -- d by n matrix containing data points.\n",
    "    mixGaussEst -- dict containing the mixture of gaussians parameters.\n",
    "\n",
    "    Returns: \n",
    "    logLike -- scalar containing the log likelihood.\n",
    "    \n",
    "    \"\"\"\n",
    "    \n",
    "    data = np.atleast_2d(data)                                                                         \n",
    "    # find total number of data items                                                                  \n",
    "    nDims, nData = data.shape                                                                          \n",
    "    \n",
    "    # initialize log likelihoods                                                                       \n",
    "    logLike = 0;                                                                                       \n",
    "                                                                                                       \n",
    "    # run through each data item                                                                       \n",
    "    for cData in range(nData):                                                                         \n",
    "        thisData = data[:, cData]                                                                      \n",
    "        # TO DO (i)- calculate likelihood of this data point under mixture of                         \n",
    "        # Gaussians model. Replace this                                                                \n",
    "        like = 0\n",
    "        \n",
    "        for k in range(mixGaussEst['k']):\n",
    "            lam = mixGaussEst['weight'][k]\n",
    "            mu = mixGaussEst['mean'][:,k]\n",
    "            covar = mixGaussEst['cov'][:,:,k]\n",
    "            like += lam * getGaussProb(thisData, mu, covar)\n",
    "        \n",
    "        # add to total log like                                                                        \n",
    "        logLike = logLike + np.log(like)                                                               \n",
    "                                                                                                       \n",
    "    return  logLike.item() # np.asscalar(logLike) -- this modification was suggested when I ran the code                                                                      \n",
    "                                                                                                       "
   ]
  },
  {
   "cell_type": "code",
   "execution_count": 13,
   "metadata": {},
   "outputs": [],
   "source": [
    "# This function will be useful. Turns vectors of dimension (d,) into (d,1)\n",
    "def col(x):\n",
    "    return np.expand_dims(x,1)"
   ]
  },
  {
   "cell_type": "markdown",
   "metadata": {
    "collapsed": true
   },
   "source": [
    "**TODO J HERE:** \n",
    "\n",
    "Fill out the missing parts below. "
   ]
  },
  {
   "cell_type": "code",
   "execution_count": 14,
   "metadata": {},
   "outputs": [],
   "source": [
    "def fitMixGauss(data, k):\n",
    "    \"\"\"\n",
    "    Estimate a k MoG model that would fit the data. Incremently plots the outcome.\n",
    "               \n",
    "    \n",
    "    Keyword arguments:\n",
    "    data -- d by n matrix containing data points.\n",
    "    k -- scalar representing the number of gaussians to use in the MoG model.\n",
    "    \n",
    "    Returns: \n",
    "    mixGaussEst -- dict containing the estimated MoG parameters.\n",
    "    \n",
    "    \"\"\"\n",
    "    \n",
    "    #     MAIN E-M ROUTINE  \n",
    "    #     In the E-M algorithm, we calculate a complete posterior distribution over                                  \n",
    "    #     the (nData) hidden variables in the E-Step.  \n",
    "    #     In the M-Step, we update the parameters of the Gaussians (mean, cov, w).   \n",
    "    \n",
    "    nDims, nData = data.shape\n",
    "\n",
    "\n",
    "    postHidden = np.zeros(shape=(k, nData)) # responsibilities\n",
    "\n",
    "    # we will initialize the values to random values\n",
    "    mixGaussEst = dict()\n",
    "    mixGaussEst['k'] = k\n",
    "    mixGaussEst['d'] = nDims\n",
    "    mixGaussEst['weight'] = (1 / k) * np.ones(shape=(k))\n",
    "    mixGaussEst['mean'] = 2 * np.random.randn(nDims, k)\n",
    "    mixGaussEst['cov'] = np.zeros(shape=(nDims, nDims, k))\n",
    "    for cGauss in range(k):\n",
    "        mixGaussEst['cov'][:, :, cGauss] = 2.5 + 1.5 * np.random.uniform() * np.eye(nDims)\n",
    "        \n",
    "    \n",
    "    # calculate current likelihood\n",
    "    # TO DO (j) starts here - fill in this routine\n",
    "    logLike = getMixGaussLogLike(data, mixGaussEst)\n",
    "    print('Log Likelihood Iter 0 : {:4.3f}\\n'.format(logLike))\n",
    "\n",
    "    nIter = 30\n",
    "\n",
    "    logLikeVec = np.zeros(shape=(2 * nIter))\n",
    "    boundVec = np.zeros(shape=(2 * nIter))\n",
    "\n",
    "    fig, ax = plt.subplots(1, 1)\n",
    "\n",
    "    # Plot initial conditions\n",
    "    drawEMData2d(data, mixGaussEst)\n",
    "    time.sleep(0.7)\n",
    "    fig.canvas.draw()\n",
    "    plt.show()\n",
    "\n",
    "    for cIter in range(nIter):\n",
    "\n",
    "        # ===================== =====================\n",
    "        # Expectation step\n",
    "        # ===================== =====================\n",
    "        \n",
    "        curCov = mixGaussEst['cov']                                                                                  \n",
    "        curWeight = mixGaussEst['weight']                                                                            \n",
    "        curMean = mixGaussEst['mean'] \n",
    "\n",
    "        for cData in range(nData):\n",
    "            # TO DO : fill in column of 'hidden' - calculate posterior probability that\n",
    "            # this data point came from each of the Gaussians\n",
    "            # replace this:\n",
    "            thisData = data[:, cData]\n",
    "            \n",
    "            for cGauss in range(k):\n",
    "                postHidden[cGauss, cData] = curWeight[cGauss] * getGaussProb(thisData, curMean[:,cGauss], curCov[:,:,cGauss])                                                                                        \n",
    "            \n",
    "            postHidden[:, cData] = postHidden[:, cData] / np.sum(postHidden[:, cData])\n",
    "            \n",
    "            \n",
    "\n",
    "        # ===================== =====================\n",
    "        # Maximization Step\n",
    "        # ===================== =====================\n",
    "        # for each constituent Gaussian\n",
    "        for cGauss in range(k):\n",
    "            # TO DO :  Update weighting parameters mixGauss.weight based on the total\n",
    "            # posterior probability associated with each Gaussian. Replace this:\n",
    "\n",
    "            mc = np.sum(postHidden[cGauss,:]) \n",
    "\n",
    "            mixGaussEst['weight'][cGauss] = mc / nData\n",
    "            \n",
    "            \n",
    "            # TO DO :  Update mean parameters mixGauss.mean by weighted average\n",
    "            # where weights are given by posterior probability associated with\n",
    "            # Gaussian.  Replace this:\n",
    "            mixGaussEst['mean'][:,cGauss] = (1/mc) * np.sum(postHidden[cGauss,:] * data, 1)\n",
    "            \n",
    "            \n",
    "            # TO DO :  Update covarance parameter based on weighted average of\n",
    "            # square distance from update mean, where weights are given by\n",
    "            # posterior probability associated with Gaussian\n",
    "            # '''\n",
    "            sum_C = 0\n",
    "            \n",
    "            for cData in range(nData):\n",
    "                C = postHidden[cGauss,cData] * col(data[:,cData] - mixGaussEst['mean'][:,cGauss]) @ (col(data[:,cData] - mixGaussEst['mean'][:,cGauss]).T)\n",
    "                sum_C = sum_C + C\n",
    "\n",
    "            mixGaussEst['cov'][:,:,cGauss] = (1/mc) * sum_C\n",
    "            # '''\n",
    "            \n",
    "\n",
    "            # mixGaussEst['cov'][:,:,cGauss] = (1/mc) * (postHidden[cGauss,:]*(data - col(mixGaussEst['mean'][:,cGauss]))) @ (data - col(mixGaussEst['mean'][:,cGauss])).T\n",
    "\n",
    "        # draw the new solution\n",
    "        \n",
    "        drawEMData2d(data, mixGaussEst)\n",
    "        time.sleep(0.7)\n",
    "        fig.canvas.draw()\n",
    "        #plt.show()\n",
    "\n",
    "        # calculate the log likelihood\n",
    "        logLike = getMixGaussLogLike(data, mixGaussEst)\n",
    "        print('Log Likelihood After Iter {} : {:4.3f}\\n'.format(cIter, logLike))\n",
    "\n",
    "\n",
    "    return mixGaussEst"
   ]
  },
  {
   "cell_type": "markdown",
   "metadata": {},
   "source": [
    "### Time to put it all together!\n",
    "\n",
    "Make sure you've filled all the TO DOs above! "
   ]
  },
  {
   "cell_type": "code",
   "execution_count": 15,
   "metadata": {},
   "outputs": [
    {
     "name": "stdout",
     "output_type": "stream",
     "text": [
      "Log Likelihood Iter 0 : -7199.828\n",
      "\n"
     ]
    },
    {
     "data": {
      "image/png": "[encoded data removed]",
      "text/plain": [
       "<Figure size 432x288 with 1 Axes>"
      ]
     },
     "metadata": {
      "needs_background": "light"
     },
     "output_type": "display_data"
    },
    {
     "name": "stdout",
     "output_type": "stream",
     "text": [
      "Log Likelihood After Iter 0 : -1953.461\n",
      "\n",
      "Log Likelihood After Iter 1 : -1947.977\n",
      "\n",
      "Log Likelihood After Iter 2 : -1946.467\n",
      "\n",
      "Log Likelihood After Iter 3 : -1945.500\n",
      "\n",
      "Log Likelihood After Iter 4 : -1944.558\n",
      "\n",
      "Log Likelihood After Iter 5 : -1943.367\n",
      "\n",
      "Log Likelihood After Iter 6 : -1941.505\n",
      "\n",
      "Log Likelihood After Iter 7 : -1937.978\n",
      "\n",
      "Log Likelihood After Iter 8 : -1929.582\n",
      "\n",
      "Log Likelihood After Iter 9 : -1898.266\n",
      "\n",
      "Log Likelihood After Iter 10 : -1820.120\n",
      "\n",
      "Log Likelihood After Iter 11 : -1758.177\n",
      "\n",
      "Log Likelihood After Iter 12 : -1716.886\n",
      "\n",
      "Log Likelihood After Iter 13 : -1667.626\n",
      "\n",
      "Log Likelihood After Iter 14 : -1611.164\n",
      "\n",
      "Log Likelihood After Iter 15 : -1601.866\n",
      "\n",
      "Log Likelihood After Iter 16 : -1601.825\n",
      "\n",
      "Log Likelihood After Iter 17 : -1601.816\n",
      "\n",
      "Log Likelihood After Iter 18 : -1601.814\n",
      "\n",
      "Log Likelihood After Iter 19 : -1601.813\n",
      "\n",
      "Log Likelihood After Iter 20 : -1601.813\n",
      "\n",
      "Log Likelihood After Iter 21 : -1601.813\n",
      "\n",
      "Log Likelihood After Iter 22 : -1601.813\n",
      "\n",
      "Log Likelihood After Iter 23 : -1601.813\n",
      "\n",
      "Log Likelihood After Iter 24 : -1601.813\n",
      "\n",
      "Log Likelihood After Iter 25 : -1601.813\n",
      "\n",
      "Log Likelihood After Iter 26 : -1601.813\n",
      "\n",
      "Log Likelihood After Iter 27 : -1601.813\n",
      "\n",
      "Log Likelihood After Iter 28 : -1601.813\n",
      "\n",
      "Log Likelihood After Iter 29 : -1601.813\n",
      "\n"
     ]
    },
    {
     "data": {
      "image/png": "[encoded data removed]",
      "text/plain": [
       "<Figure size 432x288 with 1 Axes>"
      ]
     },
     "metadata": {
      "needs_background": "light"
     },
     "output_type": "display_data"
    }
   ],
   "source": [
    "#define number of components to estimate\n",
    "nGaussEst = 3\n",
    "\n",
    "#fit mixture of Gaussians (Pretend someone handed you some data. Now what?)\n",
    "#TO DO fill in this routine (below)\n",
    "mixGaussEst = fitMixGauss(data,nGaussEst)"
   ]
  },
  {
   "cell_type": "markdown",
   "metadata": {},
   "source": [
    "As described at the end of practicalMixGaussB, here the EM algorithm converges to find the three gaussians that represent the 3 data clusters produced from the true mixture of gaussians. The estimated distribution is very similar to the true one, and differently to the 2D case, this time the covariances are also similar to the true ones.\n",
    "\n",
    "The only thing to note is that in some runs, when the initial conditions were really bad, i.e. one or more of the gaussians had very poor parameters (the gaussian was very skewed due to the covariance), then the solution did not converge properly. Therefore, initialisation is very important in these problems, not only for covariances, but also means. If the initial means are too far off from the data clusters, the gaussians might get distracted by outliers and converge to them instead (focusing on single data points instead of clusters), which would result in the wrong solution. This is where t-distributions would be useful."
   ]
  }
 ],
 "metadata": {
  "interpreter": {
   "hash": "989a8ee0261a415be34d4cf0f45e98134ff6fbcaa2e29b3efcaef888d322ba01"
  },
  "kernelspec": {
   "display_name": "Python 3.8.8 64-bit ('base': conda)",
   "name": "python3"
  },
  "language_info": {
   "codemirror_mode": {
    "name": "ipython",
    "version": 3
   },
   "file_extension": ".py",
   "mimetype": "text/x-python",
   "name": "python",
   "nbconvert_exporter": "python",
   "pygments_lexer": "ipython3",
   "version": "3.8.8"
  }
 },
 "nbformat": 4,
 "nbformat_minor": 2
}
